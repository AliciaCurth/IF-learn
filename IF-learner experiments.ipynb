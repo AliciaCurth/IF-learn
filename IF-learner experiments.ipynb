{
 "cells": [
  {
   "cell_type": "markdown",
   "metadata": {},
   "source": [
    "# Experiments for IF-learner"
   ]
  },
  {
   "cell_type": "code",
   "execution_count": 1,
   "metadata": {},
   "outputs": [],
   "source": [
    "# set R variables\n",
    "import os\n",
    "os.environ['R_HOME'] = 'C:\\\\Users\\\\alici\\\\Anaconda3\\\\envs\\\\newenv\\\\Lib\\\\R' #path to your R\n",
    "# installation\n",
    "os.environ['R_USER'] = 'C:\\\\Users\\\\alici\\\\Anaconda3\\\\Lib\\\\site-packages\\\\rpy2'\n",
    "\n",
    "from paper_simulations.if_paper.helper_classes import RSmoothingSpline\n",
    "from paper_simulations.if_paper.if_learner_experiments import eval_range_n, eval_range_bias"
   ]
  },
  {
   "cell_type": "code",
   "execution_count": 2,
   "metadata": {},
   "outputs": [],
   "source": [
    "range_n = [500, 1000, 3000, 5000, 10000, 30000]"
   ]
  },
  {
   "cell_type": "code",
   "execution_count": 3,
   "metadata": {},
   "outputs": [
    {
     "name": "stdout",
     "output_type": "stream",
     "text": [
      "number of train-samples: 500\n"
     ]
    },
    {
     "name": "stderr",
     "output_type": "stream",
     "text": [
      "[Parallel(n_jobs=6)]: Using backend LokyBackend with 6 concurrent workers.\n",
      "[Parallel(n_jobs=6)]: Done  38 tasks      | elapsed:    6.4s\n",
      "[Parallel(n_jobs=6)]: Done 188 tasks      | elapsed:   13.7s\n",
      "[Parallel(n_jobs=6)]: Done 438 tasks      | elapsed:   25.4s\n",
      "[Parallel(n_jobs=6)]: Done 500 out of 500 | elapsed:   28.0s finished\n",
      "[Parallel(n_jobs=6)]: Using backend LokyBackend with 6 concurrent workers.\n"
     ]
    },
    {
     "name": "stdout",
     "output_type": "stream",
     "text": [
      "number of train-samples: 1000\n"
     ]
    },
    {
     "name": "stderr",
     "output_type": "stream",
     "text": [
      "[Parallel(n_jobs=6)]: Done  38 tasks      | elapsed:    2.3s\n",
      "[Parallel(n_jobs=6)]: Done 188 tasks      | elapsed:   10.8s\n",
      "[Parallel(n_jobs=6)]: Done 438 tasks      | elapsed:   24.9s\n",
      "[Parallel(n_jobs=6)]: Done 500 out of 500 | elapsed:   28.3s finished\n",
      "[Parallel(n_jobs=6)]: Using backend LokyBackend with 6 concurrent workers.\n"
     ]
    },
    {
     "name": "stdout",
     "output_type": "stream",
     "text": [
      "number of train-samples: 3000\n"
     ]
    },
    {
     "name": "stderr",
     "output_type": "stream",
     "text": [
      "[Parallel(n_jobs=6)]: Done  38 tasks      | elapsed:    4.8s\n",
      "[Parallel(n_jobs=6)]: Done 188 tasks      | elapsed:   27.4s\n",
      "[Parallel(n_jobs=6)]: Done 438 tasks      | elapsed:  1.1min\n",
      "[Parallel(n_jobs=6)]: Done 500 out of 500 | elapsed:  1.3min finished\n",
      "[Parallel(n_jobs=6)]: Using backend LokyBackend with 6 concurrent workers.\n"
     ]
    },
    {
     "name": "stdout",
     "output_type": "stream",
     "text": [
      "number of train-samples: 5000\n"
     ]
    },
    {
     "name": "stderr",
     "output_type": "stream",
     "text": [
      "[Parallel(n_jobs=6)]: Done  38 tasks      | elapsed:    8.0s\n",
      "[Parallel(n_jobs=6)]: Done 188 tasks      | elapsed:   40.1s\n",
      "[Parallel(n_jobs=6)]: Done 438 tasks      | elapsed:  1.6min\n",
      "[Parallel(n_jobs=6)]: Done 500 out of 500 | elapsed:  1.8min finished\n",
      "[Parallel(n_jobs=6)]: Using backend LokyBackend with 6 concurrent workers.\n"
     ]
    },
    {
     "name": "stdout",
     "output_type": "stream",
     "text": [
      "number of train-samples: 10000\n"
     ]
    },
    {
     "name": "stderr",
     "output_type": "stream",
     "text": [
      "[Parallel(n_jobs=6)]: Done  38 tasks      | elapsed:   16.7s\n",
      "[Parallel(n_jobs=6)]: Done 188 tasks      | elapsed:  1.3min\n",
      "[Parallel(n_jobs=6)]: Done 438 tasks      | elapsed:  2.9min\n",
      "[Parallel(n_jobs=6)]: Done 500 out of 500 | elapsed:  3.3min finished\n",
      "[Parallel(n_jobs=6)]: Using backend LokyBackend with 6 concurrent workers.\n"
     ]
    },
    {
     "name": "stdout",
     "output_type": "stream",
     "text": [
      "number of train-samples: 30000\n"
     ]
    },
    {
     "name": "stderr",
     "output_type": "stream",
     "text": [
      "[Parallel(n_jobs=6)]: Done  38 tasks      | elapsed:   47.0s\n",
      "[Parallel(n_jobs=6)]: Done 188 tasks      | elapsed:  3.6min\n",
      "[Parallel(n_jobs=6)]: Done 438 tasks      | elapsed:  8.3min\n",
      "[Parallel(n_jobs=6)]: Done 500 out of 500 | elapsed:  9.4min finished\n"
     ]
    }
   ],
   "source": [
    "res_n = eval_range_n(RSmoothingSpline(), range_n,  n_jobs=6, \n",
    "                     verbose=1)\n",
    "res_n.to_csv('paper_simulations/if_paper/simulations/CATE_rangen_nobias.csv')"
   ]
  }
 ],
 "metadata": {
  "kernelspec": {
   "display_name": "Python [conda env:newenv]",
   "language": "python",
   "name": "conda-env-newenv-py"
  },
  "language_info": {
   "codemirror_mode": {
    "name": "ipython",
    "version": 3
   },
   "file_extension": ".py",
   "mimetype": "text/x-python",
   "name": "python",
   "nbconvert_exporter": "python",
   "pygments_lexer": "ipython3",
   "version": "3.6.10"
  }
 },
 "nbformat": 4,
 "nbformat_minor": 4
}
