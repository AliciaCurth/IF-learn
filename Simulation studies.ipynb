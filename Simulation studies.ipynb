{
 "cells": [
  {
   "cell_type": "markdown",
   "metadata": {},
   "source": [
    "# Simulation studies\n",
    "This notebook allows to replicate the simulation studies in Curth, Alaa and van der Schaar (2020). Note: it requires a working installation of rpy2.\n",
    "\n",
    "## Simulation study 1\n",
    "Simulation studies using one dimensional data based on the motivating example of Kennedy (2020). \n"
   ]
  },
  {
   "cell_type": "code",
   "execution_count": null,
   "metadata": {},
   "outputs": [],
   "source": [
    "N_JOBS = 4"
   ]
  },
  {
   "cell_type": "code",
   "execution_count": null,
   "metadata": {},
   "outputs": [],
   "source": [
    "N_REPEATS_SIM1 = 500"
   ]
  },
  {
   "cell_type": "markdown",
   "metadata": {},
   "source": [
    "### The IF-learner"
   ]
  },
  {
   "cell_type": "code",
   "execution_count": null,
   "metadata": {},
   "outputs": [],
   "source": [
    "# make directories for saving\n",
    "IF_PATH = 'paper_utils/if_paper/paper_results/if-learner/'\n",
    "import os \n",
    "if not os.path.exists(IF_PATH):\n",
    "    os.makedirs(IF_PATH)"
   ]
  },
  {
   "cell_type": "code",
   "execution_count": null,
   "metadata": {},
   "outputs": [],
   "source": [
    "from paper_utils.if_paper.helper_classes import RSmoothingSpline, AdaptiveLogisticGAM\n",
    "from paper_utils.if_paper.if_learner_experiments import eval_range_bias, eval_range_n\n",
    "\n",
    "from iflearn.simulation_utils.base import binary_gyorfi_baseline"
   ]
  },
  {
   "cell_type": "code",
   "execution_count": null,
   "metadata": {},
   "outputs": [],
   "source": [
    "# set range of training observations to consider\n",
    "range_n = [200, 500, 1000, 2000, 3000, 5000, 10000, 30000]"
   ]
  },
  {
   "cell_type": "markdown",
   "metadata": {},
   "source": [
    "#### Constant propensity (p=0.5)"
   ]
  },
  {
   "cell_type": "code",
   "execution_count": null,
   "metadata": {},
   "outputs": [],
   "source": [
    "res_n = eval_range_n(RSmoothingSpline(), range_n, repeats=N_REPEATS_SIM1, n_jobs=N_JOBS, \n",
    "                     verbose=1)\n",
    "res_n.to_csv(IF_PATH + 'CATE_spline_p05.csv')"
   ]
  },
  {
   "cell_type": "code",
   "execution_count": null,
   "metadata": {},
   "outputs": [],
   "source": [
    "res_n = eval_range_n(AdaptiveLogisticGAM(), range_n, repeats=N_REPEATS_SIM1, n_jobs=N_JOBS, \n",
    "                     baseline_model=binary_gyorfi_baseline, setting='RR',\n",
    "                     verbose=1, binary_y=True,  te_estimator=RSmoothingSpline())\n",
    "res_n.to_csv(IF_PATH + 'RR_gam_p05.csv')"
   ]
  },
  {
   "cell_type": "markdown",
   "metadata": {},
   "source": [
    "#### Propensity score from Kennedy (2020)"
   ]
  },
  {
   "cell_type": "code",
   "execution_count": null,
   "metadata": {},
   "outputs": [],
   "source": [
    "from iflearn.simulation_utils.treatment_effects import propensity_kennedy"
   ]
  },
  {
   "cell_type": "code",
   "execution_count": null,
   "metadata": {},
   "outputs": [],
   "source": [
    "res_n = eval_range_n(RSmoothingSpline(), range_n, repeats=N_REPEATS_SIM1,n_jobs=N_JOBS, \n",
    "                     verbose=1, propensity_model=propensity_kennedy)\n",
    "res_n.to_csv(IF_PATH + 'CATE_spline_withpropensity.csv')"
   ]
  },
  {
   "cell_type": "code",
   "execution_count": null,
   "metadata": {},
   "outputs": [],
   "source": [
    "res_n = eval_range_n(AdaptiveLogisticGAM(), range_n, repeats=N_REPEATS_SIM1, \n",
    "                    n_jobs=N_JOBS,  setting='RR',\n",
    "                     propensity_model=propensity_kennedy,\n",
    "                     baseline_model=binary_gyorfi_baseline,\n",
    "                     verbose=1, binary_y=True, te_estimator=RSmoothingSpline())\n",
    "res_n.to_csv(IF_PATH + 'RR_gam_withpropensity.csv')"
   ]
  },
  {
   "cell_type": "markdown",
   "metadata": {},
   "source": [
    "#### Unknown selection bias"
   ]
  },
  {
   "cell_type": "code",
   "execution_count": null,
   "metadata": {},
   "outputs": [],
   "source": [
    "import numpy as np\n",
    "range_b =  [p for p in np.arange(0.1, 1, 0.05)] \n",
    "res_b = eval_range_bias(RSmoothingSpline(), range_b, repeats=N_REPEATS_SIM1, \n",
    "                        n_jobs=N_JOBS, verbose=1, n_train=500)\n",
    "res_b.to_csv(IF_PATH + 'CATE_spline_withbias.csv')"
   ]
  },
  {
   "cell_type": "markdown",
   "metadata": {},
   "source": [
    "### The Group-IF-learner"
   ]
  },
  {
   "cell_type": "code",
   "execution_count": null,
   "metadata": {},
   "outputs": [],
   "source": [
    "# make directories for saving\n",
    "GROUP_PATH = 'paper_utils/if_paper/paper_results/group-if-learner/'\n",
    "import os \n",
    "if not os.path.exists(GROUP_PATH):\n",
    "    os.makedirs(GROUP_PATH)"
   ]
  },
  {
   "cell_type": "code",
   "execution_count": null,
   "metadata": {},
   "outputs": [],
   "source": [
    "from paper_utils.if_paper.group_if_learner_experiments import eval_range_n_group"
   ]
  },
  {
   "cell_type": "code",
   "execution_count": null,
   "metadata": {},
   "outputs": [],
   "source": [
    "range_n = [100, 200, 500, 750, 1000, 2000]"
   ]
  },
  {
   "cell_type": "code",
   "execution_count": null,
   "metadata": {},
   "outputs": [],
   "source": [
    "# experiment not in paper\n",
    "res_n = eval_range_n_group(RSmoothingSpline(), range_n, repeats=N_REPEATS_SIM1, n_jobs=N_JOBS, \n",
    "                     verbose=1)\n",
    "res_n.to_csv(GROUP_PATH + 'CATE_spline_p05_group.csv')"
   ]
  },
  {
   "cell_type": "code",
   "execution_count": null,
   "metadata": {},
   "outputs": [],
   "source": [
    "# experiment in paper\n",
    "res_n = eval_range_n_group(RSmoothingSpline(), range_n, repeats=N_REPEATS_SIM1, n_jobs=N_JOBS, \n",
    "                     verbose=1, propensity_model=propensity_kennedy)\n",
    "res_n.to_csv(GROUP_PATH + 'CATE_spline_withpropensity_group.csv')"
   ]
  },
  {
   "cell_type": "markdown",
   "metadata": {},
   "source": [
    "## Simulation study 2: GRFs "
   ]
  },
  {
   "cell_type": "code",
   "execution_count": null,
   "metadata": {},
   "outputs": [],
   "source": [
    "# make directories for saving\n",
    "GRF_PATH = 'paper_utils/if_paper/paper_results/grf-if-learner/'\n",
    "import os \n",
    "if not os.path.exists(GRF_PATH):\n",
    "    os.makedirs(GRF_PATH)"
   ]
  },
  {
   "cell_type": "code",
   "execution_count": null,
   "metadata": {},
   "outputs": [],
   "source": [
    "from paper_utils.if_paper.grf_experiments import eval_range_grf\n",
    "\n",
    "from iflearn.simulation_utils.base import constant_baseline, baseline_wa, uniform_covariate_model,\\\n",
    "                                         normal_error_model, ModelCaller\n",
    "from iflearn.simulation_utils.treatment_effects import te_interaction_baseline, te_multiple_baseline,\\\n",
    "                                                        propensity_wa, nonlinear_treatment_effect_wa1"
   ]
  },
  {
   "cell_type": "code",
   "execution_count": null,
   "metadata": {},
   "outputs": [],
   "source": [
    "N_REPEATS_SIM2 = 200"
   ]
  },
  {
   "cell_type": "code",
   "execution_count": null,
   "metadata": {},
   "outputs": [],
   "source": [
    "# change defaults on uniform_covariate_model from [-1,1] to [0,1]\n",
    "unif_01 = ModelCaller(uniform_covariate_model, args={'high':1, 'low': 0})"
   ]
  },
  {
   "cell_type": "code",
   "execution_count": null,
   "metadata": {},
   "outputs": [],
   "source": [
    "range_n = [800, 1600]"
   ]
  },
  {
   "cell_type": "code",
   "execution_count": null,
   "metadata": {},
   "outputs": [],
   "source": [
    "res_n = eval_range_grf(range_n, dimension_range=False, propensity_model=None,\n",
    "                   repeats=N_REPEATS_SIM2, covariate_model=unif_01,\n",
    "                   n_test=1000, d=10,\n",
    "                   te_function=nonlinear_treatment_effect_wa1, \n",
    "                   baseline_model=constant_baseline, error_model=normal_error_model,\n",
    "                   pre_dispatch='2*n_jobs', n_jobs=N_JOBS, verbose=1)\n",
    "res_n.to_csv(GRF_PATH + 'GRF_nonlinearTE_noconfounding.csv')"
   ]
  },
  {
   "cell_type": "code",
   "execution_count": null,
   "metadata": {},
   "outputs": [],
   "source": [
    "res_n = eval_range_grf(range_n,  dimension_range=False, propensity_model=propensity_wa,\n",
    "                       repeats=N_REPEATS_SIM2, covariate_model=unif_01,\n",
    "                       n_test=1000,  d=10,\n",
    "                       te_function=None, \n",
    "                       baseline_model=baseline_wa, error_model=normal_error_model,\n",
    "                       n_jobs=N_JOBS, verbose=1)\n",
    "res_n.to_csv(GRF_PATH + 'GRF_noTE_confounding.csv')"
   ]
  },
  {
   "cell_type": "code",
   "execution_count": null,
   "metadata": {},
   "outputs": [],
   "source": [
    "res_n = eval_range_grf(range_n, dimension_range=False, propensity_model=propensity_wa,\n",
    "                      repeats=N_REPEATS_SIM2, covariate_model=unif_01,\n",
    "                      n_test=1000, d=10,\n",
    "                      te_function=nonlinear_treatment_effect_wa1, \n",
    "                    baseline_model=baseline_wa, error_model=normal_error_model,\n",
    "                   n_jobs=N_JOBS, verbose=1)\n",
    "res_n.to_csv(GRF_PATH + 'GRF_nonlinearTE_confounding.csv')"
   ]
  },
  {
   "cell_type": "code",
   "execution_count": null,
   "metadata": {},
   "outputs": [],
   "source": [
    "res_n = eval_range_grf(range_n,  dimension_range=False, propensity_model=propensity_wa,\n",
    "                       repeats=N_REPEATS_SIM2, covariate_model=unif_01,\n",
    "                       n_test=1000, d=10,\n",
    "                       te_function=te_multiple_baseline, \n",
    "                       baseline_model=baseline_wa, error_model=normal_error_model,\n",
    "                       n_jobs=N_JOBS, verbose=1)\n",
    "res_n.to_csv(GRF_PATH + 'GRF_multipleTE_confounding.csv')"
   ]
  },
  {
   "cell_type": "code",
   "execution_count": null,
   "metadata": {},
   "outputs": [],
   "source": [
    "res_n = eval_range_grf(range_n,  dimension_range=False, propensity_model=propensity_wa,\n",
    "                      repeats=N_REPEATS_SIM2, covariate_model=unif_01,\n",
    "                      n_test=1000, d=10,\n",
    "                      te_function=te_interaction_baseline, \n",
    "                      baseline_model=baseline_wa, error_model=normal_error_model,\n",
    "                      n_jobs=N_JOBS, verbose=1)\n",
    "res_n.to_csv(GRF_PATH + 'GRF_interactionTE_confounding.csv')"
   ]
  }
 ],
 "metadata": {
  "kernelspec": {
   "display_name": "Python 3",
   "language": "python",
   "name": "python3"
  },
  "language_info": {
   "codemirror_mode": {
    "name": "ipython",
    "version": 3
   },
   "file_extension": ".py",
   "mimetype": "text/x-python",
   "name": "python",
   "nbconvert_exporter": "python",
   "pygments_lexer": "ipython3",
   "version": "3.6.5"
  }
 },
 "nbformat": 4,
 "nbformat_minor": 4
}
