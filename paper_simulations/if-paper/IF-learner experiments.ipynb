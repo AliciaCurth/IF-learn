{
 "cells": [
  {
   "cell_type": "markdown",
   "metadata": {},
   "source": [
    "# Experiments for IF-learner"
   ]
  },
  {
   "cell_type": "code",
   "execution_count": null,
   "metadata": {},
   "outputs": [],
   "source": [
    "from if_learner_experiments import eval_range_n, eval_range_bias\n",
    "from helper_classes import"
   ]
  },
  {
   "cell_type": "code",
   "execution_count": null,
   "metadata": {},
   "outputs": [],
   "source": [
    "# set R variables\n",
    "import os\n",
    "os.environ['R_HOME'] = 'C:\\\\Users\\\\alici\\\\Anaconda3\\\\envs\\\\newenv\\\\Lib\\\\R' #path to your R\n",
    "# installation\n",
    "os.environ['R_USER'] = 'C:\\\\Users\\\\alici\\\\Anaconda3\\\\Lib\\\\site-packages\\\\rpy2'"
   ]
  }
 ],
 "metadata": {
  "kernelspec": {
   "display_name": "Python [conda env:newenv] *",
   "language": "python",
   "name": "conda-env-newenv-py"
  },
  "language_info": {
   "codemirror_mode": {
    "name": "ipython",
    "version": 3
   },
   "file_extension": ".py",
   "mimetype": "text/x-python",
   "name": "python",
   "nbconvert_exporter": "python",
   "pygments_lexer": "ipython3",
   "version": "3.6.10"
  }
 },
 "nbformat": 4,
 "nbformat_minor": 4
}
