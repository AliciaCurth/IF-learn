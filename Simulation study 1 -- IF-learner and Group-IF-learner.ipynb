{
 "cells": [
  {
   "cell_type": "code",
   "execution_count": 1,
   "metadata": {},
   "outputs": [],
   "source": [
    "from paper_simulations.if_paper.helper_classes import RSmoothingSpline, AdaptiveLogisticGAM\n",
    "from paper_simulations.if_paper.if_learner_experiments import eval_range_bias, eval_range_n"
   ]
  },
  {
   "cell_type": "markdown",
   "metadata": {},
   "source": [
    "# IF-learner experiments"
   ]
  },
  {
   "cell_type": "code",
   "execution_count": 2,
   "metadata": {},
   "outputs": [],
   "source": [
    "range_n = [200, 500, 1000 ,3000, 5000, 10000, 30000]"
   ]
  },
  {
   "cell_type": "markdown",
   "metadata": {},
   "source": [
    "## Propensity score: constant"
   ]
  },
  {
   "cell_type": "code",
   "execution_count": 3,
   "metadata": {},
   "outputs": [
    {
     "name": "stdout",
     "output_type": "stream",
     "text": [
      "number of train-samples: 200\n"
     ]
    },
    {
     "name": "stderr",
     "output_type": "stream",
     "text": [
      "[Parallel(n_jobs=3)]: Using backend LokyBackend with 3 concurrent workers.\n",
      "[Parallel(n_jobs=3)]: Done  44 tasks      | elapsed:    5.0s\n",
      "[Parallel(n_jobs=3)]: Done 194 tasks      | elapsed:   10.6s\n",
      "[Parallel(n_jobs=3)]: Done 444 tasks      | elapsed:   20.2s\n",
      "[Parallel(n_jobs=3)]: Done 500 out of 500 | elapsed:   22.3s finished\n",
      "[Parallel(n_jobs=3)]: Using backend LokyBackend with 3 concurrent workers.\n"
     ]
    },
    {
     "name": "stdout",
     "output_type": "stream",
     "text": [
      "number of train-samples: 500\n"
     ]
    },
    {
     "name": "stderr",
     "output_type": "stream",
     "text": [
      "[Parallel(n_jobs=3)]: Done  82 tasks      | elapsed:    4.1s\n",
      "[Parallel(n_jobs=3)]: Done 382 tasks      | elapsed:   17.7s\n",
      "[Parallel(n_jobs=3)]: Done 495 out of 500 | elapsed:   23.1s remaining:    0.1s\n",
      "[Parallel(n_jobs=3)]: Done 500 out of 500 | elapsed:   23.3s finished\n",
      "[Parallel(n_jobs=3)]: Using backend LokyBackend with 3 concurrent workers.\n"
     ]
    },
    {
     "name": "stdout",
     "output_type": "stream",
     "text": [
      "number of train-samples: 1000\n"
     ]
    },
    {
     "name": "stderr",
     "output_type": "stream",
     "text": [
      "[Parallel(n_jobs=3)]: Done  44 tasks      | elapsed:    3.3s\n",
      "[Parallel(n_jobs=3)]: Done 194 tasks      | elapsed:   13.9s\n",
      "[Parallel(n_jobs=3)]: Done 444 tasks      | elapsed:   29.3s\n",
      "[Parallel(n_jobs=3)]: Done 500 out of 500 | elapsed:   32.9s finished\n",
      "[Parallel(n_jobs=3)]: Using backend LokyBackend with 3 concurrent workers.\n"
     ]
    },
    {
     "name": "stdout",
     "output_type": "stream",
     "text": [
      "number of train-samples: 3000\n"
     ]
    },
    {
     "name": "stderr",
     "output_type": "stream",
     "text": [
      "[Parallel(n_jobs=3)]: Done  44 tasks      | elapsed:    6.1s\n",
      "[Parallel(n_jobs=3)]: Done 194 tasks      | elapsed:   26.2s\n",
      "[Parallel(n_jobs=3)]: Done 444 tasks      | elapsed:  1.0min\n",
      "[Parallel(n_jobs=3)]: Done 500 out of 500 | elapsed:  1.2min finished\n",
      "[Parallel(n_jobs=3)]: Using backend LokyBackend with 3 concurrent workers.\n"
     ]
    },
    {
     "name": "stdout",
     "output_type": "stream",
     "text": [
      "number of train-samples: 5000\n"
     ]
    },
    {
     "name": "stderr",
     "output_type": "stream",
     "text": [
      "[Parallel(n_jobs=3)]: Done  44 tasks      | elapsed:   11.7s\n",
      "[Parallel(n_jobs=3)]: Done 194 tasks      | elapsed:   50.4s\n",
      "[Parallel(n_jobs=3)]: Done 444 tasks      | elapsed:  1.8min\n",
      "[Parallel(n_jobs=3)]: Done 500 out of 500 | elapsed:  2.0min finished\n",
      "[Parallel(n_jobs=3)]: Using backend LokyBackend with 3 concurrent workers.\n"
     ]
    },
    {
     "name": "stdout",
     "output_type": "stream",
     "text": [
      "number of train-samples: 10000\n"
     ]
    },
    {
     "name": "stderr",
     "output_type": "stream",
     "text": [
      "[Parallel(n_jobs=3)]: Done  44 tasks      | elapsed:   20.5s\n",
      "[Parallel(n_jobs=3)]: Done 194 tasks      | elapsed:  1.5min\n",
      "[Parallel(n_jobs=3)]: Done 444 tasks      | elapsed:  3.3min\n",
      "[Parallel(n_jobs=3)]: Done 500 out of 500 | elapsed:  3.8min finished\n",
      "[Parallel(n_jobs=3)]: Using backend LokyBackend with 3 concurrent workers.\n"
     ]
    },
    {
     "name": "stdout",
     "output_type": "stream",
     "text": [
      "number of train-samples: 30000\n"
     ]
    },
    {
     "name": "stderr",
     "output_type": "stream",
     "text": [
      "[Parallel(n_jobs=3)]: Done  44 tasks      | elapsed:  1.0min\n",
      "[Parallel(n_jobs=3)]: Done 194 tasks      | elapsed:  4.3min\n",
      "[Parallel(n_jobs=3)]: Done 444 tasks      | elapsed:  9.8min\n",
      "[Parallel(n_jobs=3)]: Done 500 out of 500 | elapsed: 11.0min finished\n"
     ]
    }
   ],
   "source": [
    "res_n = eval_range_n(RSmoothingSpline(), range_n, repeats=500, n_jobs=3, \n",
    "                     verbose=1)\n",
    "res_n.to_csv('paper_simulations/if_paper/simulations/spline_cate_p05.csv')"
   ]
  },
  {
   "cell_type": "code",
   "execution_count": null,
   "metadata": {},
   "outputs": [
    {
     "name": "stdout",
     "output_type": "stream",
     "text": [
      "number of train-samples: 200\n"
     ]
    },
    {
     "name": "stderr",
     "output_type": "stream",
     "text": [
      "[Parallel(n_jobs=3)]: Using backend LokyBackend with 3 concurrent workers.\n",
      "C:\\Users\\alici\\Anaconda3\\envs\\dissenv\\lib\\site-packages\\sklearn\\base.py:197: FutureWarning: From version 0.24, get_params will raise an AttributeError if a parameter cannot be retrieved as an instance attribute. Previously it would return None.\n",
      "  FutureWarning)\n",
      "[Parallel(n_jobs=3)]: Done  44 tasks      | elapsed:  1.1min\n",
      "[Parallel(n_jobs=3)]: Done 194 tasks      | elapsed:  4.0min\n"
     ]
    }
   ],
   "source": [
    "from iflearn.simulation_utils.base import binary_gyorfi_baseline\n",
    "res_n = eval_range_n(AdaptiveLogisticGAM(), range_n, repeats=500, n_jobs=3, \n",
    "                     baseline_model=binary_gyorfi_baseline, setting='RR',\n",
    "                     verbose=1, binary_y=True,  te_estimator=RSmoothingSpline())\n",
    "res_n.to_csv('paper_simulations/if_paper/simulations/spline_RR_p05.csv')"
   ]
  },
  {
   "cell_type": "markdown",
   "metadata": {},
   "source": [
    "## Propensity score: Like in Kennedy (2020), but known"
   ]
  },
  {
   "cell_type": "code",
   "execution_count": null,
   "metadata": {},
   "outputs": [],
   "source": [
    "from iflearn.simulation_utils.treatment_effects import simple_propensity_model"
   ]
  },
  {
   "cell_type": "code",
   "execution_count": 9,
   "metadata": {},
   "outputs": [
    {
     "name": "stdout",
     "output_type": "stream",
     "text": [
      "number of train-samples: 200\n"
     ]
    },
    {
     "name": "stderr",
     "output_type": "stream",
     "text": [
      "[Parallel(n_jobs=3)]: Using backend LokyBackend with 3 concurrent workers.\n",
      "[Parallel(n_jobs=3)]: Done  82 tasks      | elapsed:    3.1s\n",
      "[Parallel(n_jobs=3)]: Done 382 tasks      | elapsed:   14.3s\n",
      "[Parallel(n_jobs=3)]: Done 500 out of 500 | elapsed:   18.6s finished\n",
      "[Parallel(n_jobs=3)]: Using backend LokyBackend with 3 concurrent workers.\n"
     ]
    },
    {
     "name": "stdout",
     "output_type": "stream",
     "text": [
      "number of train-samples: 500\n"
     ]
    },
    {
     "name": "stderr",
     "output_type": "stream",
     "text": [
      "[Parallel(n_jobs=3)]: Done  82 tasks      | elapsed:    3.9s\n",
      "[Parallel(n_jobs=3)]: Done 382 tasks      | elapsed:   17.3s\n",
      "[Parallel(n_jobs=3)]: Done 500 out of 500 | elapsed:   22.6s finished\n",
      "[Parallel(n_jobs=3)]: Using backend LokyBackend with 3 concurrent workers.\n"
     ]
    },
    {
     "name": "stdout",
     "output_type": "stream",
     "text": [
      "number of train-samples: 1000\n"
     ]
    },
    {
     "name": "stderr",
     "output_type": "stream",
     "text": [
      "[Parallel(n_jobs=3)]: Done  82 tasks      | elapsed:    5.5s\n",
      "[Parallel(n_jobs=3)]: Done 382 tasks      | elapsed:   23.7s\n",
      "[Parallel(n_jobs=3)]: Done 495 out of 500 | elapsed:   30.6s remaining:    0.2s\n",
      "[Parallel(n_jobs=3)]: Done 500 out of 500 | elapsed:   30.7s finished\n",
      "[Parallel(n_jobs=3)]: Using backend LokyBackend with 3 concurrent workers.\n"
     ]
    },
    {
     "name": "stdout",
     "output_type": "stream",
     "text": [
      "number of train-samples: 3000\n"
     ]
    },
    {
     "name": "stderr",
     "output_type": "stream",
     "text": [
      "[Parallel(n_jobs=3)]: Done  44 tasks      | elapsed:    5.9s\n",
      "[Parallel(n_jobs=3)]: Done 194 tasks      | elapsed:   25.7s\n",
      "[Parallel(n_jobs=3)]: Done 444 tasks      | elapsed:   58.8s\n",
      "[Parallel(n_jobs=3)]: Done 500 out of 500 | elapsed:  1.1min finished\n",
      "[Parallel(n_jobs=3)]: Using backend LokyBackend with 3 concurrent workers.\n"
     ]
    },
    {
     "name": "stdout",
     "output_type": "stream",
     "text": [
      "number of train-samples: 5000\n"
     ]
    },
    {
     "name": "stderr",
     "output_type": "stream",
     "text": [
      "[Parallel(n_jobs=3)]: Done  44 tasks      | elapsed:   10.3s\n",
      "[Parallel(n_jobs=3)]: Done 194 tasks      | elapsed:   43.0s\n",
      "[Parallel(n_jobs=3)]: Done 444 tasks      | elapsed:  1.6min\n",
      "[Parallel(n_jobs=3)]: Done 500 out of 500 | elapsed:  1.8min finished\n",
      "[Parallel(n_jobs=3)]: Using backend LokyBackend with 3 concurrent workers.\n"
     ]
    },
    {
     "name": "stdout",
     "output_type": "stream",
     "text": [
      "number of train-samples: 10000\n"
     ]
    },
    {
     "name": "stderr",
     "output_type": "stream",
     "text": [
      "[Parallel(n_jobs=3)]: Done  44 tasks      | elapsed:   20.7s\n",
      "[Parallel(n_jobs=3)]: Done 194 tasks      | elapsed:  1.5min\n",
      "[Parallel(n_jobs=3)]: Done 444 tasks      | elapsed:  3.3min\n",
      "[Parallel(n_jobs=3)]: Done 500 out of 500 | elapsed:  3.8min finished\n",
      "[Parallel(n_jobs=3)]: Using backend LokyBackend with 3 concurrent workers.\n"
     ]
    },
    {
     "name": "stdout",
     "output_type": "stream",
     "text": [
      "number of train-samples: 30000\n"
     ]
    },
    {
     "name": "stderr",
     "output_type": "stream",
     "text": [
      "[Parallel(n_jobs=3)]: Done  44 tasks      | elapsed:   59.0s\n",
      "[Parallel(n_jobs=3)]: Done 194 tasks      | elapsed:  4.3min\n",
      "[Parallel(n_jobs=3)]: Done 444 tasks      | elapsed:  9.7min\n",
      "[Parallel(n_jobs=3)]: Done 500 out of 500 | elapsed: 11.0min finished\n"
     ]
    }
   ],
   "source": [
    "res_n = eval_range_n(RSmoothingSpline(), range_n, repeats=500, n_jobs=3, \n",
    "                     verbose=1, propensity_model=simple_propensity_model)\n",
    "res_n.to_csv('paper_simulations/if_paper/simulations/spline_cate_withpropensity.csv')"
   ]
  },
  {
   "cell_type": "code",
   "execution_count": null,
   "metadata": {},
   "outputs": [],
   "source": [
    "res_n = eval_range_n(AdaptiveLogisticGAM(), range_n, repeats=500, n_jobs=3,  setting='RR',\n",
    "                     propensity_model=simple_propensity_model,baseline_model=binary_gyorfi_baseline,\n",
    "                     verbose=1, binary_y=True,  te_estimator=RSmoothingSpline())\n",
    "res_n.to_csv('paper_simulations/if_paper/simulations/spline_RR_withpropensity.csv')"
   ]
  },
  {
   "cell_type": "markdown",
   "metadata": {},
   "source": [
    "## With unknown selection bias"
   ]
  },
  {
   "cell_type": "code",
   "execution_count": 11,
   "metadata": {},
   "outputs": [
    {
     "name": "stdout",
     "output_type": "stream",
     "text": [
      "Bias with parameter: 0.1\n"
     ]
    },
    {
     "name": "stderr",
     "output_type": "stream",
     "text": [
      "[Parallel(n_jobs=3)]: Using backend LokyBackend with 3 concurrent workers.\n",
      "[Parallel(n_jobs=3)]: Done  44 tasks      | elapsed:    6.6s\n",
      "[Parallel(n_jobs=3)]: Done 194 tasks      | elapsed:   15.5s\n",
      "[Parallel(n_jobs=3)]: Done 444 tasks      | elapsed:   30.2s\n",
      "[Parallel(n_jobs=3)]: Done 500 out of 500 | elapsed:   33.5s finished\n",
      "[Parallel(n_jobs=3)]: Using backend LokyBackend with 3 concurrent workers.\n"
     ]
    },
    {
     "name": "stdout",
     "output_type": "stream",
     "text": [
      "Bias with parameter: 0.15000000000000002\n"
     ]
    },
    {
     "name": "stderr",
     "output_type": "stream",
     "text": [
      "[Parallel(n_jobs=3)]: Done  82 tasks      | elapsed:    4.7s\n",
      "[Parallel(n_jobs=3)]: Done 382 tasks      | elapsed:   21.9s\n",
      "[Parallel(n_jobs=3)]: Done 500 out of 500 | elapsed:   28.7s finished\n",
      "[Parallel(n_jobs=3)]: Using backend LokyBackend with 3 concurrent workers.\n"
     ]
    },
    {
     "name": "stdout",
     "output_type": "stream",
     "text": [
      "Bias with parameter: 0.20000000000000004\n"
     ]
    },
    {
     "name": "stderr",
     "output_type": "stream",
     "text": [
      "[Parallel(n_jobs=3)]: Done  82 tasks      | elapsed:    5.0s\n",
      "[Parallel(n_jobs=3)]: Done 382 tasks      | elapsed:   22.1s\n",
      "[Parallel(n_jobs=3)]: Done 500 out of 500 | elapsed:   28.8s finished\n",
      "[Parallel(n_jobs=3)]: Using backend LokyBackend with 3 concurrent workers.\n"
     ]
    },
    {
     "name": "stdout",
     "output_type": "stream",
     "text": [
      "Bias with parameter: 0.25000000000000006\n"
     ]
    },
    {
     "name": "stderr",
     "output_type": "stream",
     "text": [
      "[Parallel(n_jobs=3)]: Done  82 tasks      | elapsed:    4.8s\n",
      "[Parallel(n_jobs=3)]: Done 382 tasks      | elapsed:   22.2s\n",
      "[Parallel(n_jobs=3)]: Done 500 out of 500 | elapsed:   29.0s finished\n",
      "[Parallel(n_jobs=3)]: Using backend LokyBackend with 3 concurrent workers.\n"
     ]
    },
    {
     "name": "stdout",
     "output_type": "stream",
     "text": [
      "Bias with parameter: 0.30000000000000004\n"
     ]
    },
    {
     "name": "stderr",
     "output_type": "stream",
     "text": [
      "[Parallel(n_jobs=3)]: Done  82 tasks      | elapsed:    4.6s\n",
      "[Parallel(n_jobs=3)]: Done 382 tasks      | elapsed:   21.7s\n",
      "[Parallel(n_jobs=3)]: Done 500 out of 500 | elapsed:   28.5s finished\n",
      "[Parallel(n_jobs=3)]: Using backend LokyBackend with 3 concurrent workers.\n"
     ]
    },
    {
     "name": "stdout",
     "output_type": "stream",
     "text": [
      "Bias with parameter: 0.3500000000000001\n"
     ]
    },
    {
     "name": "stderr",
     "output_type": "stream",
     "text": [
      "[Parallel(n_jobs=3)]: Done  44 tasks      | elapsed:    2.7s\n",
      "[Parallel(n_jobs=3)]: Done 194 tasks      | elapsed:   11.6s\n",
      "[Parallel(n_jobs=3)]: Done 444 tasks      | elapsed:   26.1s\n",
      "[Parallel(n_jobs=3)]: Done 500 out of 500 | elapsed:   29.5s finished\n",
      "[Parallel(n_jobs=3)]: Using backend LokyBackend with 3 concurrent workers.\n"
     ]
    },
    {
     "name": "stdout",
     "output_type": "stream",
     "text": [
      "Bias with parameter: 0.40000000000000013\n"
     ]
    },
    {
     "name": "stderr",
     "output_type": "stream",
     "text": [
      "[Parallel(n_jobs=3)]: Done  44 tasks      | elapsed:    2.6s\n",
      "[Parallel(n_jobs=3)]: Done 194 tasks      | elapsed:   13.1s\n",
      "[Parallel(n_jobs=3)]: Done 444 tasks      | elapsed:   28.3s\n",
      "[Parallel(n_jobs=3)]: Done 500 out of 500 | elapsed:   31.7s finished\n",
      "[Parallel(n_jobs=3)]: Using backend LokyBackend with 3 concurrent workers.\n"
     ]
    },
    {
     "name": "stdout",
     "output_type": "stream",
     "text": [
      "Bias with parameter: 0.45000000000000007\n"
     ]
    },
    {
     "name": "stderr",
     "output_type": "stream",
     "text": [
      "[Parallel(n_jobs=3)]: Done  82 tasks      | elapsed:    4.8s\n",
      "[Parallel(n_jobs=3)]: Done 382 tasks      | elapsed:   22.0s\n",
      "[Parallel(n_jobs=3)]: Done 500 out of 500 | elapsed:   28.7s finished\n",
      "[Parallel(n_jobs=3)]: Using backend LokyBackend with 3 concurrent workers.\n"
     ]
    },
    {
     "name": "stdout",
     "output_type": "stream",
     "text": [
      "Bias with parameter: 0.5000000000000001\n"
     ]
    },
    {
     "name": "stderr",
     "output_type": "stream",
     "text": [
      "[Parallel(n_jobs=3)]: Done  44 tasks      | elapsed:    2.7s\n",
      "[Parallel(n_jobs=3)]: Done 194 tasks      | elapsed:   11.5s\n",
      "[Parallel(n_jobs=3)]: Done 444 tasks      | elapsed:   26.3s\n",
      "[Parallel(n_jobs=3)]: Done 500 out of 500 | elapsed:   29.6s finished\n",
      "[Parallel(n_jobs=3)]: Using backend LokyBackend with 3 concurrent workers.\n"
     ]
    },
    {
     "name": "stdout",
     "output_type": "stream",
     "text": [
      "Bias with parameter: 0.5500000000000002\n"
     ]
    },
    {
     "name": "stderr",
     "output_type": "stream",
     "text": [
      "[Parallel(n_jobs=3)]: Done  82 tasks      | elapsed:    4.7s\n",
      "[Parallel(n_jobs=3)]: Done 382 tasks      | elapsed:   22.1s\n",
      "[Parallel(n_jobs=3)]: Done 500 out of 500 | elapsed:   29.0s finished\n",
      "[Parallel(n_jobs=3)]: Using backend LokyBackend with 3 concurrent workers.\n"
     ]
    },
    {
     "name": "stdout",
     "output_type": "stream",
     "text": [
      "Bias with parameter: 0.6000000000000002\n"
     ]
    },
    {
     "name": "stderr",
     "output_type": "stream",
     "text": [
      "[Parallel(n_jobs=3)]: Done  82 tasks      | elapsed:    5.0s\n",
      "[Parallel(n_jobs=3)]: Done 382 tasks      | elapsed:   22.4s\n",
      "[Parallel(n_jobs=3)]: Done 500 out of 500 | elapsed:   29.0s finished\n",
      "[Parallel(n_jobs=3)]: Using backend LokyBackend with 3 concurrent workers.\n"
     ]
    },
    {
     "name": "stdout",
     "output_type": "stream",
     "text": [
      "Bias with parameter: 0.6500000000000001\n"
     ]
    },
    {
     "name": "stderr",
     "output_type": "stream",
     "text": [
      "[Parallel(n_jobs=3)]: Done  82 tasks      | elapsed:    4.9s\n",
      "[Parallel(n_jobs=3)]: Done 382 tasks      | elapsed:   22.2s\n",
      "[Parallel(n_jobs=3)]: Done 500 out of 500 | elapsed:   29.4s finished\n",
      "[Parallel(n_jobs=3)]: Using backend LokyBackend with 3 concurrent workers.\n"
     ]
    },
    {
     "name": "stdout",
     "output_type": "stream",
     "text": [
      "Bias with parameter: 0.7000000000000002\n"
     ]
    },
    {
     "name": "stderr",
     "output_type": "stream",
     "text": [
      "[Parallel(n_jobs=3)]: Done  44 tasks      | elapsed:    3.0s\n",
      "[Parallel(n_jobs=3)]: Done 194 tasks      | elapsed:   12.3s\n",
      "[Parallel(n_jobs=3)]: Done 444 tasks      | elapsed:   27.3s\n",
      "[Parallel(n_jobs=3)]: Done 500 out of 500 | elapsed:   31.0s finished\n",
      "[Parallel(n_jobs=3)]: Using backend LokyBackend with 3 concurrent workers.\n"
     ]
    },
    {
     "name": "stdout",
     "output_type": "stream",
     "text": [
      "Bias with parameter: 0.7500000000000002\n"
     ]
    },
    {
     "name": "stderr",
     "output_type": "stream",
     "text": [
      "[Parallel(n_jobs=3)]: Done  82 tasks      | elapsed:    5.1s\n",
      "[Parallel(n_jobs=3)]: Done 382 tasks      | elapsed:   22.3s\n",
      "[Parallel(n_jobs=3)]: Done 500 out of 500 | elapsed:   29.0s finished\n",
      "[Parallel(n_jobs=3)]: Using backend LokyBackend with 3 concurrent workers.\n"
     ]
    },
    {
     "name": "stdout",
     "output_type": "stream",
     "text": [
      "Bias with parameter: 0.8000000000000002\n"
     ]
    },
    {
     "name": "stderr",
     "output_type": "stream",
     "text": [
      "[Parallel(n_jobs=3)]: Done  82 tasks      | elapsed:    4.8s\n",
      "[Parallel(n_jobs=3)]: Done 382 tasks      | elapsed:   23.6s\n",
      "[Parallel(n_jobs=3)]: Done 495 out of 500 | elapsed:   30.8s remaining:    0.2s\n",
      "[Parallel(n_jobs=3)]: Done 500 out of 500 | elapsed:   31.0s finished\n",
      "[Parallel(n_jobs=3)]: Using backend LokyBackend with 3 concurrent workers.\n"
     ]
    },
    {
     "name": "stdout",
     "output_type": "stream",
     "text": [
      "Bias with parameter: 0.8500000000000002\n"
     ]
    },
    {
     "name": "stderr",
     "output_type": "stream",
     "text": [
      "[Parallel(n_jobs=3)]: Done  44 tasks      | elapsed:    3.1s\n",
      "[Parallel(n_jobs=3)]: Done 194 tasks      | elapsed:   14.3s\n",
      "[Parallel(n_jobs=3)]: Done 444 tasks      | elapsed:   30.6s\n",
      "[Parallel(n_jobs=3)]: Done 500 out of 500 | elapsed:   33.9s finished\n",
      "[Parallel(n_jobs=3)]: Using backend LokyBackend with 3 concurrent workers.\n"
     ]
    },
    {
     "name": "stdout",
     "output_type": "stream",
     "text": [
      "Bias with parameter: 0.9000000000000002\n"
     ]
    },
    {
     "name": "stderr",
     "output_type": "stream",
     "text": [
      "[Parallel(n_jobs=3)]: Done  44 tasks      | elapsed:    3.1s\n",
      "[Parallel(n_jobs=3)]: Done 194 tasks      | elapsed:   13.2s\n",
      "[Parallel(n_jobs=3)]: Done 444 tasks      | elapsed:   30.3s\n",
      "[Parallel(n_jobs=3)]: Done 500 out of 500 | elapsed:   34.1s finished\n",
      "[Parallel(n_jobs=3)]: Using backend LokyBackend with 3 concurrent workers.\n"
     ]
    },
    {
     "name": "stdout",
     "output_type": "stream",
     "text": [
      "Bias with parameter: 0.9500000000000003\n"
     ]
    },
    {
     "name": "stderr",
     "output_type": "stream",
     "text": [
      "[Parallel(n_jobs=3)]: Done  82 tasks      | elapsed:    5.5s\n",
      "[Parallel(n_jobs=3)]: Done 382 tasks      | elapsed:   24.7s\n",
      "[Parallel(n_jobs=3)]: Done 500 out of 500 | elapsed:   31.9s finished\n"
     ]
    }
   ],
   "source": [
    "import numpy as np\n",
    "range_b =  [p for p in np.arange(0.1, 1, 0.05)] \n",
    "res_b = eval_range_bias(RSmoothingSpline(), range_b, repeats=500, n_jobs=3, \n",
    "                     verbose=1, n_train=500)\n",
    "res_b.to_csv('paper_simulations/if_paper/simulations/spline_cate_withbias.csv')"
   ]
  },
  {
   "cell_type": "markdown",
   "metadata": {},
   "source": [
    "# Group-IF-learner experiments\n"
   ]
  },
  {
   "cell_type": "code",
   "execution_count": 2,
   "metadata": {},
   "outputs": [],
   "source": [
    "from paper_simulations.if_paper.group_if_learner_experiments import eval_range_n_group"
   ]
  },
  {
   "cell_type": "code",
   "execution_count": 3,
   "metadata": {},
   "outputs": [],
   "source": [
    "range_n = [100, 200, 500, 750, 1000, 2000]"
   ]
  },
  {
   "cell_type": "code",
   "execution_count": 4,
   "metadata": {},
   "outputs": [
    {
     "name": "stdout",
     "output_type": "stream",
     "text": [
      "number of train-samples: 100\n"
     ]
    },
    {
     "name": "stderr",
     "output_type": "stream",
     "text": [
      "[Parallel(n_jobs=3)]: Using backend LokyBackend with 3 concurrent workers.\n",
      "[Parallel(n_jobs=3)]: Done  44 tasks      | elapsed:    9.6s\n",
      "[Parallel(n_jobs=3)]: Done 194 tasks      | elapsed:   22.5s\n",
      "[Parallel(n_jobs=3)]: Done 444 tasks      | elapsed:   42.9s\n",
      "[Parallel(n_jobs=3)]: Done 500 out of 500 | elapsed:   47.3s finished\n",
      "[Parallel(n_jobs=3)]: Using backend LokyBackend with 3 concurrent workers.\n"
     ]
    },
    {
     "name": "stdout",
     "output_type": "stream",
     "text": [
      "number of train-samples: 200\n"
     ]
    },
    {
     "name": "stderr",
     "output_type": "stream",
     "text": [
      "[Parallel(n_jobs=3)]: Done  44 tasks      | elapsed:    3.9s\n",
      "[Parallel(n_jobs=3)]: Done 194 tasks      | elapsed:   17.0s\n",
      "[Parallel(n_jobs=3)]: Done 444 tasks      | elapsed:   38.6s\n",
      "[Parallel(n_jobs=3)]: Done 500 out of 500 | elapsed:   43.3s finished\n",
      "[Parallel(n_jobs=3)]: Using backend LokyBackend with 3 concurrent workers.\n"
     ]
    },
    {
     "name": "stdout",
     "output_type": "stream",
     "text": [
      "number of train-samples: 500\n"
     ]
    },
    {
     "name": "stderr",
     "output_type": "stream",
     "text": [
      "[Parallel(n_jobs=3)]: Done  44 tasks      | elapsed:    5.0s\n",
      "[Parallel(n_jobs=3)]: Done 194 tasks      | elapsed:   22.6s\n",
      "[Parallel(n_jobs=3)]: Done 444 tasks      | elapsed:   52.1s\n",
      "[Parallel(n_jobs=3)]: Done 500 out of 500 | elapsed:   57.9s finished\n",
      "[Parallel(n_jobs=3)]: Using backend LokyBackend with 3 concurrent workers.\n"
     ]
    },
    {
     "name": "stdout",
     "output_type": "stream",
     "text": [
      "number of train-samples: 750\n"
     ]
    },
    {
     "name": "stderr",
     "output_type": "stream",
     "text": [
      "[Parallel(n_jobs=3)]: Done  44 tasks      | elapsed:    5.5s\n",
      "[Parallel(n_jobs=3)]: Done 194 tasks      | elapsed:   23.9s\n",
      "[Parallel(n_jobs=3)]: Done 444 tasks      | elapsed:   55.3s\n",
      "[Parallel(n_jobs=3)]: Done 500 out of 500 | elapsed:  1.0min finished\n",
      "[Parallel(n_jobs=3)]: Using backend LokyBackend with 3 concurrent workers.\n"
     ]
    },
    {
     "name": "stdout",
     "output_type": "stream",
     "text": [
      "number of train-samples: 1000\n"
     ]
    },
    {
     "name": "stderr",
     "output_type": "stream",
     "text": [
      "[Parallel(n_jobs=3)]: Done  44 tasks      | elapsed:    6.3s\n",
      "[Parallel(n_jobs=3)]: Done 194 tasks      | elapsed:   27.3s\n",
      "[Parallel(n_jobs=3)]: Done 444 tasks      | elapsed:  1.0min\n",
      "[Parallel(n_jobs=3)]: Done 500 out of 500 | elapsed:  1.2min finished\n",
      "[Parallel(n_jobs=3)]: Using backend LokyBackend with 3 concurrent workers.\n"
     ]
    },
    {
     "name": "stdout",
     "output_type": "stream",
     "text": [
      "number of train-samples: 2000\n"
     ]
    },
    {
     "name": "stderr",
     "output_type": "stream",
     "text": [
      "[Parallel(n_jobs=3)]: Done  44 tasks      | elapsed:    9.9s\n",
      "[Parallel(n_jobs=3)]: Done 194 tasks      | elapsed:   42.5s\n",
      "[Parallel(n_jobs=3)]: Done 444 tasks      | elapsed:  1.6min\n",
      "[Parallel(n_jobs=3)]: Done 500 out of 500 | elapsed:  1.8min finished\n"
     ]
    }
   ],
   "source": [
    "res_n = eval_range_n_group(RSmoothingSpline(), range_n, repeats=500, n_jobs=3, \n",
    "                     verbose=1)\n",
    "res_n.to_csv('paper_simulations/if_paper/simulations/spline_cate_p05_group.csv')"
   ]
  },
  {
   "cell_type": "code",
   "execution_count": 6,
   "metadata": {},
   "outputs": [],
   "source": [
    "from iflearn.simulation_utils.treatment_effects import simple_propensity_model"
   ]
  },
  {
   "cell_type": "code",
   "execution_count": 7,
   "metadata": {},
   "outputs": [
    {
     "name": "stdout",
     "output_type": "stream",
     "text": [
      "number of train-samples: 100\n"
     ]
    },
    {
     "name": "stderr",
     "output_type": "stream",
     "text": [
      "[Parallel(n_jobs=3)]: Using backend LokyBackend with 3 concurrent workers.\n",
      "[Parallel(n_jobs=3)]: Done  44 tasks      | elapsed:    3.4s\n",
      "[Parallel(n_jobs=3)]: Done 194 tasks      | elapsed:   15.4s\n",
      "[Parallel(n_jobs=3)]: Done 444 tasks      | elapsed:   37.1s\n",
      "[Parallel(n_jobs=3)]: Done 500 out of 500 | elapsed:   41.4s finished\n",
      "[Parallel(n_jobs=3)]: Using backend LokyBackend with 3 concurrent workers.\n"
     ]
    },
    {
     "name": "stdout",
     "output_type": "stream",
     "text": [
      "number of train-samples: 200\n"
     ]
    },
    {
     "name": "stderr",
     "output_type": "stream",
     "text": [
      "[Parallel(n_jobs=3)]: Done  44 tasks      | elapsed:    3.6s\n",
      "[Parallel(n_jobs=3)]: Done 194 tasks      | elapsed:   17.6s\n",
      "[Parallel(n_jobs=3)]: Done 444 tasks      | elapsed:   39.8s\n",
      "[Parallel(n_jobs=3)]: Done 500 out of 500 | elapsed:   44.5s finished\n",
      "[Parallel(n_jobs=3)]: Using backend LokyBackend with 3 concurrent workers.\n"
     ]
    },
    {
     "name": "stdout",
     "output_type": "stream",
     "text": [
      "number of train-samples: 500\n"
     ]
    },
    {
     "name": "stderr",
     "output_type": "stream",
     "text": [
      "[Parallel(n_jobs=3)]: Done  44 tasks      | elapsed:    5.4s\n",
      "[Parallel(n_jobs=3)]: Done 194 tasks      | elapsed:   21.7s\n",
      "[Parallel(n_jobs=3)]: Done 444 tasks      | elapsed:   48.6s\n",
      "[Parallel(n_jobs=3)]: Done 500 out of 500 | elapsed:   54.5s finished\n",
      "[Parallel(n_jobs=3)]: Using backend LokyBackend with 3 concurrent workers.\n"
     ]
    },
    {
     "name": "stdout",
     "output_type": "stream",
     "text": [
      "number of train-samples: 750\n"
     ]
    },
    {
     "name": "stderr",
     "output_type": "stream",
     "text": [
      "[Parallel(n_jobs=3)]: Done  44 tasks      | elapsed:    5.4s\n",
      "[Parallel(n_jobs=3)]: Done 194 tasks      | elapsed:   24.0s\n",
      "[Parallel(n_jobs=3)]: Done 444 tasks      | elapsed:   55.4s\n",
      "[Parallel(n_jobs=3)]: Done 500 out of 500 | elapsed:  1.0min finished\n",
      "[Parallel(n_jobs=3)]: Using backend LokyBackend with 3 concurrent workers.\n"
     ]
    },
    {
     "name": "stdout",
     "output_type": "stream",
     "text": [
      "number of train-samples: 1000\n"
     ]
    },
    {
     "name": "stderr",
     "output_type": "stream",
     "text": [
      "[Parallel(n_jobs=3)]: Done  44 tasks      | elapsed:    6.5s\n",
      "[Parallel(n_jobs=3)]: Done 194 tasks      | elapsed:   28.4s\n",
      "[Parallel(n_jobs=3)]: Done 444 tasks      | elapsed:  1.1min\n",
      "[Parallel(n_jobs=3)]: Done 500 out of 500 | elapsed:  1.2min finished\n",
      "[Parallel(n_jobs=3)]: Using backend LokyBackend with 3 concurrent workers.\n"
     ]
    },
    {
     "name": "stdout",
     "output_type": "stream",
     "text": [
      "number of train-samples: 2000\n"
     ]
    },
    {
     "name": "stderr",
     "output_type": "stream",
     "text": [
      "[Parallel(n_jobs=3)]: Done  44 tasks      | elapsed:   10.0s\n",
      "[Parallel(n_jobs=3)]: Done 194 tasks      | elapsed:   45.2s\n",
      "[Parallel(n_jobs=3)]: Done 444 tasks      | elapsed:  1.7min\n",
      "[Parallel(n_jobs=3)]: Done 500 out of 500 | elapsed:  1.9min finished\n"
     ]
    }
   ],
   "source": [
    "res_n = eval_range_n_group(RSmoothingSpline(), range_n, repeats=500, n_jobs=3, \n",
    "                     verbose=1, propensity_model=simple_propensity_model)\n",
    "res_n.to_csv('paper_simulations/if_paper/simulations/spline_cate_withpropensity_group.csv')"
   ]
  }
 ],
 "metadata": {
  "kernelspec": {
   "display_name": "Python 3",
   "language": "python",
   "name": "python3"
  },
  "language_info": {
   "codemirror_mode": {
    "name": "ipython",
    "version": 3
   },
   "file_extension": ".py",
   "mimetype": "text/x-python",
   "name": "python",
   "nbconvert_exporter": "python",
   "pygments_lexer": "ipython3",
   "version": "3.6.10"
  }
 },
 "nbformat": 4,
 "nbformat_minor": 4
}
